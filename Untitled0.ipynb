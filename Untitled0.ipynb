{
  "nbformat": 4,
  "nbformat_minor": 0,
  "metadata": {
    "colab": {
      "provenance": []
    },
    "kernelspec": {
      "name": "python3",
      "display_name": "Python 3"
    },
    "language_info": {
      "name": "python"
    }
  },
  "cells": [
    {
      "cell_type": "markdown",
      "source": [
        "#Reto 6\n",
        "1- Imprimir un listado con los números del 1 al 100 cada uno con su respectivo cuadrado.\n",
        "\n",
        "2- Imprimir un listado con los números impares desde 1 hasta 999 y seguidamente otro listado con los números pares desde 2 hasta 1000.\n",
        "\n",
        "3- Imprimir los números pares en forma descendente hasta 2 que son menores o iguales a un número natural n ≥ 2 dado\n",
        "\n",
        "4- Imprimir el factorial de un número natural n dado.\n",
        "\n",
        "5- Implementar un programa que ingrese un número de 2 a 50 y muestre sus divisores.\n",
        "\n",
        "6- Implementar el algoritmo que muestre los números primos del 1 al 100. Nota: use funciones."
      ],
      "metadata": {
        "id": "m5WFYulw1FDj"
      }
    },
    {
      "cell_type": "code",
      "source": [
        "#Ejercicio 1\n",
        "\n",
        "i = 1  #Aquí iniciamos con una varialble (i) igual a 1\n",
        "while(i <= 100):   #En esta linea ponemos la condición de (mientras i sea menos o igual a 0)\n",
        "  print(\"El cuadradao de \" + str(i) + \" es \" + str(i**2) )   #Acá decimos que si se cumple la condición de arriba se imprima \"El cuadradao de \" + str(i) + \" es \" + str(i**2)\n",
        "  i = i + 1   # Y acá actualizamos la i diciendole que ahora se sume uno, haciendo que recorra de 1 hasta 100"
      ],
      "metadata": {
        "collapsed": true,
        "id": "miq5PRLiGukv"
      },
      "execution_count": null,
      "outputs": []
    },
    {
      "cell_type": "code",
      "source": [
        "#Ejercicio 2\n",
        "\n",
        "i = 2 #Aca le damos a i un valor de 2\n",
        "while(i <= 999): #En esta linea colocamos la condición de i debe ser menor o igual que 999\n",
        "  print(i) #Aca le decimos que si se cumple la anterior condición se imprima i\n",
        "  i = i+2 #Aquí actualizamos el valor de i sumandole 2 para que vuelva a repetirse e imprima los pares de 1 hasta 999\n",
        "\n",
        "i = 1 #Aca le damos a i un valor de 1\n",
        "while(i <= 999): #En esta linea colocamos la condición de i debe ser menor o igual que 999\n",
        "  print(i) #Aca le decimos que si se cumple la anterior condición se imprima i\n",
        "  i = i+2 #Aquí actualizamos el valor de i sumandole 2 para que vuelva a repetirse e imprima los impares de 1 hasta 999"
      ],
      "metadata": {
        "id": "ewmRyBPRHDrI"
      },
      "execution_count": null,
      "outputs": []
    },
    {
      "cell_type": "code",
      "source": [
        "#Ejercicio 3\n",
        "n = int(input(\"ingrese un número menor que 2 \")) #Aca decimos que n es un valor entero que nosotros igresaremos\n",
        "\n",
        "if n % 2 != 0: #En esta linea decimo que si el modulo de n % 2 es diferente de 0 le restemos 1 para que nos de el par\n",
        "    n = n - 1 #inmediatamente anterios. Así volvemos un impar en impar\n",
        "\n",
        "while (n >= 2): #Aca emepzamos condicionando el bucle, si n es mayor o igual a 2 entramos al bucle\n",
        "    print(n) #Si la condición anterior se cumple imprimimos n\n",
        "    n = n - 2 # aca actualizamos n restandole dos para que nos de el par anterior"
      ],
      "metadata": {
        "id": "8TBPC6fdfWZ4"
      },
      "execution_count": null,
      "outputs": []
    },
    {
      "cell_type": "code",
      "source": [
        "#Ejercicio 4\n",
        "n = int(input(\"ingrese un número: \")) # Se le pide que ingrese un número\n",
        "\n",
        "facto = 1 #Una variable (facto) para guardar las multiplicaciones, la empezamos en 1 para que no afecte la multiplicación\n",
        "i = n #Declaramos i igual a n para poder meterla en el bucle\n",
        "\n",
        "while (i >= 1): #Condicionamos a i para que sea mayor o igual a 1\n",
        "    facto = facto * i #Vamos multiplicando i para acumular las multiplicaciones\n",
        "    i = i - 1 #Vamos restando 1 a i para ir disminuyendo a que quede 1\n",
        "print(\"El factorial de \" + str(n) + \" es \" + str(facto)) #Imprimimos el factorial\n",
        "\n"
      ],
      "metadata": {
        "id": "1RSzXAbcjTvp"
      },
      "execution_count": null,
      "outputs": []
    },
    {
      "cell_type": "code",
      "source": [
        "#Ejercicio 5\n",
        "\n",
        "n = int(input(\"ingrese un número: \")) #Le pedimos que ingrese un número n\n",
        "\n",
        "print(\"Los divisores de \" + str(n) + \" son:\") #Imprimimos los divisores del número(n) son:\n",
        "\n",
        "i = n #Declaramos que i es igual a n\n",
        "while (1 <= i <= n): #Dejamos a i en un rango de 1 a n\n",
        "    if n % i == 0: # Si el modulo de n % i es 0 significa que es divisor\n",
        "        print(i) # imprimimos el divisor\n",
        "    i = i - 1    # restamos 1 a i que es igual a n para hacerlo hasta que llegue a 1 y evaluar si es o no divisor"
      ],
      "metadata": {
        "id": "eegclC8OAsaU"
      },
      "execution_count": null,
      "outputs": []
    },
    {
      "cell_type": "code",
      "source": [
        "#Ejercicio 6\n",
        "\n",
        "def es_primo(n: int) -> bool:\n",
        "\n",
        "    #Comenzamos a dividir desde 2 hasta la raíz cuadrada de n\n",
        "    i = 2\n",
        "    while i * i <= n:\n",
        "        #si n es divisible por algún número entre 2 y raíz de n, no es primo\n",
        "        if n % i == 0:\n",
        "            return False\n",
        "        i += 1  #Se le suma 1 a i para probar el siguiente posible divisor\n",
        "\n",
        "    return True #si no se encontró ningún divisor n es primo\n",
        "\n",
        "def mostrar_primos_hasta_100():\n",
        "    print(\"Números primos del 1 al 100:\")\n",
        "\n",
        "    i = 1  # Comenzamos desde 1 (aunque 1 no es primo, se verificará en la función)\n",
        "    while i <= 100:\n",
        "        if es_primo(i):  #Llamamos a la función para verificar si i es primo\n",
        "            print(i)     #Si es primo, lo mostramos por pantalla\n",
        "        i += 1           #Incrementamos para probar el siguiente número\n",
        "\n",
        "\n",
        "if __name__ == \"__main__\": #función main\n",
        "    mostrar_primos_hasta_100()  #Llamamos a la función principal para mostrar los primos\n",
        "\n"
      ],
      "metadata": {
        "id": "laUCuszKEllq"
      },
      "execution_count": null,
      "outputs": []
    }
  ]
}